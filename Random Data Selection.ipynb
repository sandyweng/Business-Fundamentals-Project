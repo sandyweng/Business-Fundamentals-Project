{
 "cells": [
  {
   "cell_type": "code",
   "execution_count": 1,
   "id": "nominated-style",
   "metadata": {},
   "outputs": [],
   "source": [
    "import pandas as pd\n",
    "import numpy as np"
   ]
  },
  {
   "cell_type": "code",
   "execution_count": 2,
   "id": "suitable-macedonia",
   "metadata": {},
   "outputs": [],
   "source": [
    "first_2019 = []\n",
    "first_9 = [1,2,3,4,5,6,7,8,9]\n",
    "for num in first_9:\n",
    "    first_2019.append(pd.read_csv('20190{}-citibike-tripdata.csv'.format(num)))"
   ]
  },
  {
   "cell_type": "code",
   "execution_count": 3,
   "id": "stretch-ghana",
   "metadata": {},
   "outputs": [],
   "source": [
    "begin_2019 = [0,1,2,3,4,5,6,7,8]\n",
    "\n",
    "begin_list = []\n",
    "\n",
    "for month in begin_2019:\n",
    "    begin_list.append(pd.DataFrame(first_2019[month]).sample(10000))"
   ]
  },
  {
   "cell_type": "code",
   "execution_count": 4,
   "id": "considerable-administration",
   "metadata": {},
   "outputs": [],
   "source": [
    "begin_df = pd.concat(begin_list)"
   ]
  },
  {
   "cell_type": "code",
   "execution_count": 5,
   "id": "played-height",
   "metadata": {
    "scrolled": true
   },
   "outputs": [
    {
     "data": {
      "text/html": [
       "<div>\n",
       "<style scoped>\n",
       "    .dataframe tbody tr th:only-of-type {\n",
       "        vertical-align: middle;\n",
       "    }\n",
       "\n",
       "    .dataframe tbody tr th {\n",
       "        vertical-align: top;\n",
       "    }\n",
       "\n",
       "    .dataframe thead th {\n",
       "        text-align: right;\n",
       "    }\n",
       "</style>\n",
       "<table border=\"1\" class=\"dataframe\">\n",
       "  <thead>\n",
       "    <tr style=\"text-align: right;\">\n",
       "      <th></th>\n",
       "      <th>tripduration</th>\n",
       "      <th>starttime</th>\n",
       "      <th>stoptime</th>\n",
       "      <th>start station id</th>\n",
       "      <th>start station name</th>\n",
       "      <th>start station latitude</th>\n",
       "      <th>start station longitude</th>\n",
       "      <th>end station id</th>\n",
       "      <th>end station name</th>\n",
       "      <th>end station latitude</th>\n",
       "      <th>end station longitude</th>\n",
       "      <th>bikeid</th>\n",
       "      <th>usertype</th>\n",
       "      <th>birth year</th>\n",
       "      <th>gender</th>\n",
       "    </tr>\n",
       "  </thead>\n",
       "  <tbody>\n",
       "    <tr>\n",
       "      <th>301568</th>\n",
       "      <td>429</td>\n",
       "      <td>2019-01-09 17:16:19.2390</td>\n",
       "      <td>2019-01-09 17:23:28.5620</td>\n",
       "      <td>435.0</td>\n",
       "      <td>W 21 St &amp; 6 Ave</td>\n",
       "      <td>40.741740</td>\n",
       "      <td>-73.994156</td>\n",
       "      <td>3255.0</td>\n",
       "      <td>8 Ave &amp; W 31 St</td>\n",
       "      <td>40.750585</td>\n",
       "      <td>-73.994685</td>\n",
       "      <td>27697</td>\n",
       "      <td>Subscriber</td>\n",
       "      <td>1982</td>\n",
       "      <td>1</td>\n",
       "    </tr>\n",
       "    <tr>\n",
       "      <th>814208</th>\n",
       "      <td>895</td>\n",
       "      <td>2019-01-26 14:36:50.1450</td>\n",
       "      <td>2019-01-26 14:51:45.1880</td>\n",
       "      <td>520.0</td>\n",
       "      <td>W 52 St &amp; 5 Ave</td>\n",
       "      <td>40.759923</td>\n",
       "      <td>-73.976485</td>\n",
       "      <td>520.0</td>\n",
       "      <td>W 52 St &amp; 5 Ave</td>\n",
       "      <td>40.759923</td>\n",
       "      <td>-73.976485</td>\n",
       "      <td>29116</td>\n",
       "      <td>Subscriber</td>\n",
       "      <td>1963</td>\n",
       "      <td>2</td>\n",
       "    </tr>\n",
       "    <tr>\n",
       "      <th>85666</th>\n",
       "      <td>432</td>\n",
       "      <td>2019-01-03 16:43:54.4950</td>\n",
       "      <td>2019-01-03 16:51:07.4200</td>\n",
       "      <td>3317.0</td>\n",
       "      <td>10 St &amp; 5 Ave</td>\n",
       "      <td>40.668627</td>\n",
       "      <td>-73.987001</td>\n",
       "      <td>3368.0</td>\n",
       "      <td>5 Ave &amp; 3 St</td>\n",
       "      <td>40.672815</td>\n",
       "      <td>-73.983524</td>\n",
       "      <td>33220</td>\n",
       "      <td>Subscriber</td>\n",
       "      <td>1978</td>\n",
       "      <td>2</td>\n",
       "    </tr>\n",
       "    <tr>\n",
       "      <th>89903</th>\n",
       "      <td>514</td>\n",
       "      <td>2019-01-03 17:46:04.8830</td>\n",
       "      <td>2019-01-03 17:54:39.0600</td>\n",
       "      <td>517.0</td>\n",
       "      <td>Pershing Square South</td>\n",
       "      <td>40.751581</td>\n",
       "      <td>-73.977910</td>\n",
       "      <td>490.0</td>\n",
       "      <td>8 Ave &amp; W 33 St</td>\n",
       "      <td>40.751551</td>\n",
       "      <td>-73.993934</td>\n",
       "      <td>30313</td>\n",
       "      <td>Subscriber</td>\n",
       "      <td>1988</td>\n",
       "      <td>1</td>\n",
       "    </tr>\n",
       "    <tr>\n",
       "      <th>147605</th>\n",
       "      <td>190</td>\n",
       "      <td>2019-01-05 09:19:52.4100</td>\n",
       "      <td>2019-01-05 09:23:02.7420</td>\n",
       "      <td>3592.0</td>\n",
       "      <td>Crescent St &amp; Broadway</td>\n",
       "      <td>40.763359</td>\n",
       "      <td>-73.928647</td>\n",
       "      <td>3653.0</td>\n",
       "      <td>31 St &amp; 35 Ave</td>\n",
       "      <td>40.758205</td>\n",
       "      <td>-73.928322</td>\n",
       "      <td>34659</td>\n",
       "      <td>Subscriber</td>\n",
       "      <td>1992</td>\n",
       "      <td>2</td>\n",
       "    </tr>\n",
       "  </tbody>\n",
       "</table>\n",
       "</div>"
      ],
      "text/plain": [
       "        tripduration                 starttime                  stoptime  \\\n",
       "301568           429  2019-01-09 17:16:19.2390  2019-01-09 17:23:28.5620   \n",
       "814208           895  2019-01-26 14:36:50.1450  2019-01-26 14:51:45.1880   \n",
       "85666            432  2019-01-03 16:43:54.4950  2019-01-03 16:51:07.4200   \n",
       "89903            514  2019-01-03 17:46:04.8830  2019-01-03 17:54:39.0600   \n",
       "147605           190  2019-01-05 09:19:52.4100  2019-01-05 09:23:02.7420   \n",
       "\n",
       "        start station id      start station name  start station latitude  \\\n",
       "301568             435.0         W 21 St & 6 Ave               40.741740   \n",
       "814208             520.0         W 52 St & 5 Ave               40.759923   \n",
       "85666             3317.0           10 St & 5 Ave               40.668627   \n",
       "89903              517.0   Pershing Square South               40.751581   \n",
       "147605            3592.0  Crescent St & Broadway               40.763359   \n",
       "\n",
       "        start station longitude  end station id end station name  \\\n",
       "301568               -73.994156          3255.0  8 Ave & W 31 St   \n",
       "814208               -73.976485           520.0  W 52 St & 5 Ave   \n",
       "85666                -73.987001          3368.0     5 Ave & 3 St   \n",
       "89903                -73.977910           490.0  8 Ave & W 33 St   \n",
       "147605               -73.928647          3653.0   31 St & 35 Ave   \n",
       "\n",
       "        end station latitude  end station longitude  bikeid    usertype  \\\n",
       "301568             40.750585             -73.994685   27697  Subscriber   \n",
       "814208             40.759923             -73.976485   29116  Subscriber   \n",
       "85666              40.672815             -73.983524   33220  Subscriber   \n",
       "89903              40.751551             -73.993934   30313  Subscriber   \n",
       "147605             40.758205             -73.928322   34659  Subscriber   \n",
       "\n",
       "        birth year  gender  \n",
       "301568        1982       1  \n",
       "814208        1963       2  \n",
       "85666         1978       2  \n",
       "89903         1988       1  \n",
       "147605        1992       2  "
      ]
     },
     "execution_count": 5,
     "metadata": {},
     "output_type": "execute_result"
    }
   ],
   "source": [
    "begin_df.head()"
   ]
  },
  {
   "cell_type": "code",
   "execution_count": null,
   "id": "covered-subject",
   "metadata": {},
   "outputs": [],
   "source": [
    "last_2019 = []\n",
    "last_3 = [10,11,12]\n",
    "for num in last_3:\n",
    "    last_2019.append(pd.read_csv('2019{}-citibike-tripdata.csv'.format(num)))"
   ]
  },
  {
   "cell_type": "code",
   "execution_count": 7,
   "id": "similar-friend",
   "metadata": {},
   "outputs": [],
   "source": [
    "end_2019 = [0,1,2]\n",
    "\n",
    "end_list = []\n",
    "\n",
    "for month in end_2019:\n",
    "    end_list.append(pd.DataFrame(last_2019[month]).sample(10000))"
   ]
  },
  {
   "cell_type": "code",
   "execution_count": 9,
   "id": "invalid-director",
   "metadata": {},
   "outputs": [],
   "source": [
    "df = pd.concat([begin_df, rest_2019])"
   ]
  },
  {
   "cell_type": "code",
   "execution_count": 10,
   "id": "endless-living",
   "metadata": {},
   "outputs": [
    {
     "data": {
      "text/plain": [
       "(120000, 15)"
      ]
     },
     "execution_count": 10,
     "metadata": {},
     "output_type": "execute_result"
    }
   ],
   "source": [
    "df.shape"
   ]
  },
  {
   "cell_type": "code",
   "execution_count": 11,
   "id": "attended-border",
   "metadata": {},
   "outputs": [
    {
     "data": {
      "text/html": [
       "<div>\n",
       "<style scoped>\n",
       "    .dataframe tbody tr th:only-of-type {\n",
       "        vertical-align: middle;\n",
       "    }\n",
       "\n",
       "    .dataframe tbody tr th {\n",
       "        vertical-align: top;\n",
       "    }\n",
       "\n",
       "    .dataframe thead th {\n",
       "        text-align: right;\n",
       "    }\n",
       "</style>\n",
       "<table border=\"1\" class=\"dataframe\">\n",
       "  <thead>\n",
       "    <tr style=\"text-align: right;\">\n",
       "      <th></th>\n",
       "      <th>tripduration</th>\n",
       "      <th>starttime</th>\n",
       "      <th>stoptime</th>\n",
       "      <th>start station id</th>\n",
       "      <th>start station name</th>\n",
       "      <th>start station latitude</th>\n",
       "      <th>start station longitude</th>\n",
       "      <th>end station id</th>\n",
       "      <th>end station name</th>\n",
       "      <th>end station latitude</th>\n",
       "      <th>end station longitude</th>\n",
       "      <th>bikeid</th>\n",
       "      <th>usertype</th>\n",
       "      <th>birth year</th>\n",
       "      <th>gender</th>\n",
       "    </tr>\n",
       "  </thead>\n",
       "  <tbody>\n",
       "    <tr>\n",
       "      <th>301568</th>\n",
       "      <td>429</td>\n",
       "      <td>2019-01-09 17:16:19.2390</td>\n",
       "      <td>2019-01-09 17:23:28.5620</td>\n",
       "      <td>435.0</td>\n",
       "      <td>W 21 St &amp; 6 Ave</td>\n",
       "      <td>40.741740</td>\n",
       "      <td>-73.994156</td>\n",
       "      <td>3255.0</td>\n",
       "      <td>8 Ave &amp; W 31 St</td>\n",
       "      <td>40.750585</td>\n",
       "      <td>-73.994685</td>\n",
       "      <td>27697</td>\n",
       "      <td>Subscriber</td>\n",
       "      <td>1982</td>\n",
       "      <td>1</td>\n",
       "    </tr>\n",
       "    <tr>\n",
       "      <th>814208</th>\n",
       "      <td>895</td>\n",
       "      <td>2019-01-26 14:36:50.1450</td>\n",
       "      <td>2019-01-26 14:51:45.1880</td>\n",
       "      <td>520.0</td>\n",
       "      <td>W 52 St &amp; 5 Ave</td>\n",
       "      <td>40.759923</td>\n",
       "      <td>-73.976485</td>\n",
       "      <td>520.0</td>\n",
       "      <td>W 52 St &amp; 5 Ave</td>\n",
       "      <td>40.759923</td>\n",
       "      <td>-73.976485</td>\n",
       "      <td>29116</td>\n",
       "      <td>Subscriber</td>\n",
       "      <td>1963</td>\n",
       "      <td>2</td>\n",
       "    </tr>\n",
       "    <tr>\n",
       "      <th>85666</th>\n",
       "      <td>432</td>\n",
       "      <td>2019-01-03 16:43:54.4950</td>\n",
       "      <td>2019-01-03 16:51:07.4200</td>\n",
       "      <td>3317.0</td>\n",
       "      <td>10 St &amp; 5 Ave</td>\n",
       "      <td>40.668627</td>\n",
       "      <td>-73.987001</td>\n",
       "      <td>3368.0</td>\n",
       "      <td>5 Ave &amp; 3 St</td>\n",
       "      <td>40.672815</td>\n",
       "      <td>-73.983524</td>\n",
       "      <td>33220</td>\n",
       "      <td>Subscriber</td>\n",
       "      <td>1978</td>\n",
       "      <td>2</td>\n",
       "    </tr>\n",
       "    <tr>\n",
       "      <th>89903</th>\n",
       "      <td>514</td>\n",
       "      <td>2019-01-03 17:46:04.8830</td>\n",
       "      <td>2019-01-03 17:54:39.0600</td>\n",
       "      <td>517.0</td>\n",
       "      <td>Pershing Square South</td>\n",
       "      <td>40.751581</td>\n",
       "      <td>-73.977910</td>\n",
       "      <td>490.0</td>\n",
       "      <td>8 Ave &amp; W 33 St</td>\n",
       "      <td>40.751551</td>\n",
       "      <td>-73.993934</td>\n",
       "      <td>30313</td>\n",
       "      <td>Subscriber</td>\n",
       "      <td>1988</td>\n",
       "      <td>1</td>\n",
       "    </tr>\n",
       "    <tr>\n",
       "      <th>147605</th>\n",
       "      <td>190</td>\n",
       "      <td>2019-01-05 09:19:52.4100</td>\n",
       "      <td>2019-01-05 09:23:02.7420</td>\n",
       "      <td>3592.0</td>\n",
       "      <td>Crescent St &amp; Broadway</td>\n",
       "      <td>40.763359</td>\n",
       "      <td>-73.928647</td>\n",
       "      <td>3653.0</td>\n",
       "      <td>31 St &amp; 35 Ave</td>\n",
       "      <td>40.758205</td>\n",
       "      <td>-73.928322</td>\n",
       "      <td>34659</td>\n",
       "      <td>Subscriber</td>\n",
       "      <td>1992</td>\n",
       "      <td>2</td>\n",
       "    </tr>\n",
       "  </tbody>\n",
       "</table>\n",
       "</div>"
      ],
      "text/plain": [
       "        tripduration                 starttime                  stoptime  \\\n",
       "301568           429  2019-01-09 17:16:19.2390  2019-01-09 17:23:28.5620   \n",
       "814208           895  2019-01-26 14:36:50.1450  2019-01-26 14:51:45.1880   \n",
       "85666            432  2019-01-03 16:43:54.4950  2019-01-03 16:51:07.4200   \n",
       "89903            514  2019-01-03 17:46:04.8830  2019-01-03 17:54:39.0600   \n",
       "147605           190  2019-01-05 09:19:52.4100  2019-01-05 09:23:02.7420   \n",
       "\n",
       "        start station id      start station name  start station latitude  \\\n",
       "301568             435.0         W 21 St & 6 Ave               40.741740   \n",
       "814208             520.0         W 52 St & 5 Ave               40.759923   \n",
       "85666             3317.0           10 St & 5 Ave               40.668627   \n",
       "89903              517.0   Pershing Square South               40.751581   \n",
       "147605            3592.0  Crescent St & Broadway               40.763359   \n",
       "\n",
       "        start station longitude  end station id end station name  \\\n",
       "301568               -73.994156          3255.0  8 Ave & W 31 St   \n",
       "814208               -73.976485           520.0  W 52 St & 5 Ave   \n",
       "85666                -73.987001          3368.0     5 Ave & 3 St   \n",
       "89903                -73.977910           490.0  8 Ave & W 33 St   \n",
       "147605               -73.928647          3653.0   31 St & 35 Ave   \n",
       "\n",
       "        end station latitude  end station longitude  bikeid    usertype  \\\n",
       "301568             40.750585             -73.994685   27697  Subscriber   \n",
       "814208             40.759923             -73.976485   29116  Subscriber   \n",
       "85666              40.672815             -73.983524   33220  Subscriber   \n",
       "89903              40.751551             -73.993934   30313  Subscriber   \n",
       "147605             40.758205             -73.928322   34659  Subscriber   \n",
       "\n",
       "        birth year  gender  \n",
       "301568        1982       1  \n",
       "814208        1963       2  \n",
       "85666         1978       2  \n",
       "89903         1988       1  \n",
       "147605        1992       2  "
      ]
     },
     "execution_count": 11,
     "metadata": {},
     "output_type": "execute_result"
    }
   ],
   "source": [
    "df.head()"
   ]
  },
  {
   "cell_type": "code",
   "execution_count": 12,
   "id": "related-links",
   "metadata": {},
   "outputs": [],
   "source": [
    "df.to_csv('all_2019_data.csv', index=False)"
   ]
  },
  {
   "cell_type": "code",
   "execution_count": 3,
   "id": "stable-richardson",
   "metadata": {},
   "outputs": [],
   "source": [
    "first_2020 = []\n",
    "first_nums = [1,2,3,4,5,6,7,8,9]\n",
    "for num in first_nums:\n",
    "    first_2020.append(pd.read_csv('20200{}-citibike-tripdata.csv'.format(num)))"
   ]
  },
  {
   "cell_type": "code",
   "execution_count": 4,
   "id": "cleared-turtle",
   "metadata": {},
   "outputs": [
    {
     "data": {
      "text/plain": [
       "9"
      ]
     },
     "execution_count": 4,
     "metadata": {},
     "output_type": "execute_result"
    }
   ],
   "source": [
    "len(first_2020)"
   ]
  },
  {
   "cell_type": "code",
   "execution_count": 5,
   "id": "bibliographic-priest",
   "metadata": {},
   "outputs": [],
   "source": [
    "jan_thru_sept_2020 = [0,1,2,3,4,5,6,7,8]\n",
    "\n",
    "l = []\n",
    "\n",
    "for month in jan_thru_sept_2020:\n",
    "    l.append(pd.DataFrame(first_2020[month]).sample(10000))"
   ]
  },
  {
   "cell_type": "code",
   "execution_count": 8,
   "id": "corresponding-toyota",
   "metadata": {},
   "outputs": [],
   "source": [
    "first_df = pd.concat(l)"
   ]
  },
  {
   "cell_type": "code",
   "execution_count": 9,
   "id": "subject-wallet",
   "metadata": {},
   "outputs": [
    {
     "data": {
      "text/plain": [
       "(90000, 15)"
      ]
     },
     "execution_count": 9,
     "metadata": {},
     "output_type": "execute_result"
    }
   ],
   "source": [
    "first_df.shape"
   ]
  },
  {
   "cell_type": "code",
   "execution_count": 10,
   "id": "sealed-functionality",
   "metadata": {},
   "outputs": [],
   "source": [
    "last_2020 = []\n",
    "last_nums = [10,11,12]\n",
    "for num in last_nums:\n",
    "    last_2020.append(pd.read_csv('2020{}-citibike-tripdata.csv'.format(num)))"
   ]
  },
  {
   "cell_type": "code",
   "execution_count": 11,
   "id": "economic-islam",
   "metadata": {},
   "outputs": [
    {
     "data": {
      "text/plain": [
       "3"
      ]
     },
     "execution_count": 11,
     "metadata": {},
     "output_type": "execute_result"
    }
   ],
   "source": [
    "len(last_2020)"
   ]
  },
  {
   "cell_type": "code",
   "execution_count": 12,
   "id": "intensive-pillow",
   "metadata": {},
   "outputs": [],
   "source": [
    "end_2020 = [0,1,2]\n",
    "\n",
    "end = []\n",
    "\n",
    "for month in end_2020:\n",
    "    end.append(pd.DataFrame(last_2020[month]).sample(10000))"
   ]
  },
  {
   "cell_type": "code",
   "execution_count": 13,
   "id": "voluntary-messaging",
   "metadata": {},
   "outputs": [],
   "source": [
    "end_df = pd.concat(end)"
   ]
  },
  {
   "cell_type": "code",
   "execution_count": 14,
   "id": "clinical-collection",
   "metadata": {},
   "outputs": [
    {
     "data": {
      "text/plain": [
       "(30000, 15)"
      ]
     },
     "execution_count": 14,
     "metadata": {},
     "output_type": "execute_result"
    }
   ],
   "source": [
    "end_df.shape"
   ]
  },
  {
   "cell_type": "code",
   "execution_count": 15,
   "id": "permanent-acting",
   "metadata": {},
   "outputs": [],
   "source": [
    "total_2020 = pd.concat([first_df, end_df])"
   ]
  },
  {
   "cell_type": "code",
   "execution_count": 16,
   "id": "dated-portal",
   "metadata": {},
   "outputs": [
    {
     "data": {
      "text/plain": [
       "(120000, 15)"
      ]
     },
     "execution_count": 16,
     "metadata": {},
     "output_type": "execute_result"
    }
   ],
   "source": [
    "total_2020.shape"
   ]
  },
  {
   "cell_type": "code",
   "execution_count": 17,
   "id": "comic-avatar",
   "metadata": {},
   "outputs": [
    {
     "data": {
      "text/html": [
       "<div>\n",
       "<style scoped>\n",
       "    .dataframe tbody tr th:only-of-type {\n",
       "        vertical-align: middle;\n",
       "    }\n",
       "\n",
       "    .dataframe tbody tr th {\n",
       "        vertical-align: top;\n",
       "    }\n",
       "\n",
       "    .dataframe thead th {\n",
       "        text-align: right;\n",
       "    }\n",
       "</style>\n",
       "<table border=\"1\" class=\"dataframe\">\n",
       "  <thead>\n",
       "    <tr style=\"text-align: right;\">\n",
       "      <th></th>\n",
       "      <th>tripduration</th>\n",
       "      <th>starttime</th>\n",
       "      <th>stoptime</th>\n",
       "      <th>start station id</th>\n",
       "      <th>start station name</th>\n",
       "      <th>start station latitude</th>\n",
       "      <th>start station longitude</th>\n",
       "      <th>end station id</th>\n",
       "      <th>end station name</th>\n",
       "      <th>end station latitude</th>\n",
       "      <th>end station longitude</th>\n",
       "      <th>bikeid</th>\n",
       "      <th>usertype</th>\n",
       "      <th>birth year</th>\n",
       "      <th>gender</th>\n",
       "    </tr>\n",
       "  </thead>\n",
       "  <tbody>\n",
       "    <tr>\n",
       "      <th>836501</th>\n",
       "      <td>979</td>\n",
       "      <td>2020-01-22 17:23:56.8600</td>\n",
       "      <td>2020-01-22 17:40:16.2670</td>\n",
       "      <td>3260</td>\n",
       "      <td>Mercer St &amp; Bleecker St</td>\n",
       "      <td>40.727064</td>\n",
       "      <td>-73.996621</td>\n",
       "      <td>523</td>\n",
       "      <td>W 38 St &amp; 8 Ave</td>\n",
       "      <td>40.754666</td>\n",
       "      <td>-73.991382</td>\n",
       "      <td>38375</td>\n",
       "      <td>Subscriber</td>\n",
       "      <td>1995</td>\n",
       "      <td>1</td>\n",
       "    </tr>\n",
       "    <tr>\n",
       "      <th>488563</th>\n",
       "      <td>1684</td>\n",
       "      <td>2020-01-13 08:30:52.5930</td>\n",
       "      <td>2020-01-13 08:58:57.2830</td>\n",
       "      <td>453</td>\n",
       "      <td>W 22 St &amp; 8 Ave</td>\n",
       "      <td>40.744751</td>\n",
       "      <td>-73.999154</td>\n",
       "      <td>305</td>\n",
       "      <td>E 58 St &amp; 3 Ave</td>\n",
       "      <td>40.760958</td>\n",
       "      <td>-73.967245</td>\n",
       "      <td>40860</td>\n",
       "      <td>Subscriber</td>\n",
       "      <td>1968</td>\n",
       "      <td>1</td>\n",
       "    </tr>\n",
       "    <tr>\n",
       "      <th>314575</th>\n",
       "      <td>526</td>\n",
       "      <td>2020-01-09 19:33:33.6070</td>\n",
       "      <td>2020-01-09 19:42:19.7230</td>\n",
       "      <td>3101</td>\n",
       "      <td>N 12 St &amp; Bedford Ave</td>\n",
       "      <td>40.720798</td>\n",
       "      <td>-73.954847</td>\n",
       "      <td>3081</td>\n",
       "      <td>Graham Ave &amp; Grand St</td>\n",
       "      <td>40.711863</td>\n",
       "      <td>-73.944024</td>\n",
       "      <td>38874</td>\n",
       "      <td>Subscriber</td>\n",
       "      <td>1987</td>\n",
       "      <td>2</td>\n",
       "    </tr>\n",
       "    <tr>\n",
       "      <th>138508</th>\n",
       "      <td>1196</td>\n",
       "      <td>2020-01-05 15:59:44.4160</td>\n",
       "      <td>2020-01-05 16:19:40.4590</td>\n",
       "      <td>3119</td>\n",
       "      <td>Vernon Blvd &amp; 50 Ave</td>\n",
       "      <td>40.742327</td>\n",
       "      <td>-73.954117</td>\n",
       "      <td>3588</td>\n",
       "      <td>Vernon Blvd &amp; 10 St</td>\n",
       "      <td>40.767186</td>\n",
       "      <td>-73.937355</td>\n",
       "      <td>33951</td>\n",
       "      <td>Customer</td>\n",
       "      <td>1969</td>\n",
       "      <td>0</td>\n",
       "    </tr>\n",
       "    <tr>\n",
       "      <th>1038876</th>\n",
       "      <td>449</td>\n",
       "      <td>2020-01-27 18:04:17.1320</td>\n",
       "      <td>2020-01-27 18:11:46.2310</td>\n",
       "      <td>3164</td>\n",
       "      <td>Columbus Ave &amp; W 72 St</td>\n",
       "      <td>40.777057</td>\n",
       "      <td>-73.978985</td>\n",
       "      <td>3285</td>\n",
       "      <td>W 87 St &amp; Amsterdam Ave</td>\n",
       "      <td>40.788390</td>\n",
       "      <td>-73.974700</td>\n",
       "      <td>40229</td>\n",
       "      <td>Subscriber</td>\n",
       "      <td>1991</td>\n",
       "      <td>1</td>\n",
       "    </tr>\n",
       "  </tbody>\n",
       "</table>\n",
       "</div>"
      ],
      "text/plain": [
       "         tripduration                 starttime                  stoptime  \\\n",
       "836501            979  2020-01-22 17:23:56.8600  2020-01-22 17:40:16.2670   \n",
       "488563           1684  2020-01-13 08:30:52.5930  2020-01-13 08:58:57.2830   \n",
       "314575            526  2020-01-09 19:33:33.6070  2020-01-09 19:42:19.7230   \n",
       "138508           1196  2020-01-05 15:59:44.4160  2020-01-05 16:19:40.4590   \n",
       "1038876           449  2020-01-27 18:04:17.1320  2020-01-27 18:11:46.2310   \n",
       "\n",
       "         start station id       start station name  start station latitude  \\\n",
       "836501               3260  Mercer St & Bleecker St               40.727064   \n",
       "488563                453          W 22 St & 8 Ave               40.744751   \n",
       "314575               3101    N 12 St & Bedford Ave               40.720798   \n",
       "138508               3119     Vernon Blvd & 50 Ave               40.742327   \n",
       "1038876              3164   Columbus Ave & W 72 St               40.777057   \n",
       "\n",
       "         start station longitude  end station id         end station name  \\\n",
       "836501                -73.996621             523          W 38 St & 8 Ave   \n",
       "488563                -73.999154             305          E 58 St & 3 Ave   \n",
       "314575                -73.954847            3081    Graham Ave & Grand St   \n",
       "138508                -73.954117            3588      Vernon Blvd & 10 St   \n",
       "1038876               -73.978985            3285  W 87 St & Amsterdam Ave   \n",
       "\n",
       "         end station latitude  end station longitude  bikeid    usertype  \\\n",
       "836501              40.754666             -73.991382   38375  Subscriber   \n",
       "488563              40.760958             -73.967245   40860  Subscriber   \n",
       "314575              40.711863             -73.944024   38874  Subscriber   \n",
       "138508              40.767186             -73.937355   33951    Customer   \n",
       "1038876             40.788390             -73.974700   40229  Subscriber   \n",
       "\n",
       "         birth year  gender  \n",
       "836501         1995       1  \n",
       "488563         1968       1  \n",
       "314575         1987       2  \n",
       "138508         1969       0  \n",
       "1038876        1991       1  "
      ]
     },
     "execution_count": 17,
     "metadata": {},
     "output_type": "execute_result"
    }
   ],
   "source": [
    "total_2020.head()"
   ]
  },
  {
   "cell_type": "code",
   "execution_count": 18,
   "id": "presidential-sydney",
   "metadata": {},
   "outputs": [],
   "source": [
    "total_2020.to_csv('all_2020_data.csv', index=False)"
   ]
  },
  {
   "cell_type": "code",
   "execution_count": 20,
   "id": "constant-bulletin",
   "metadata": {},
   "outputs": [],
   "source": [
    "combined = pd.concat([df, total_2020])"
   ]
  },
  {
   "cell_type": "code",
   "execution_count": 21,
   "id": "plastic-elizabeth",
   "metadata": {},
   "outputs": [
    {
     "data": {
      "text/plain": [
       "(240000, 15)"
      ]
     },
     "execution_count": 21,
     "metadata": {},
     "output_type": "execute_result"
    }
   ],
   "source": [
    "combined.shape"
   ]
  },
  {
   "cell_type": "code",
   "execution_count": 22,
   "id": "equipped-search",
   "metadata": {},
   "outputs": [],
   "source": [
    "combined.to_csv('two_years_data.csv', index=False)"
   ]
  },
  {
   "cell_type": "code",
   "execution_count": null,
   "id": "chief-semiconductor",
   "metadata": {},
   "outputs": [],
   "source": []
  }
 ],
 "metadata": {
  "kernelspec": {
   "display_name": "Python [conda env:metis] *",
   "language": "python",
   "name": "conda-env-metis-py"
  },
  "language_info": {
   "codemirror_mode": {
    "name": "ipython",
    "version": 3
   },
   "file_extension": ".py",
   "mimetype": "text/x-python",
   "name": "python",
   "nbconvert_exporter": "python",
   "pygments_lexer": "ipython3",
   "version": "3.8.8"
  }
 },
 "nbformat": 4,
 "nbformat_minor": 5
}
